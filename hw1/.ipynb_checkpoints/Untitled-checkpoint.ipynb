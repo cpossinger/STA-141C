{
 "cells": [
  {
   "cell_type": "markdown",
   "id": "f70fa175",
   "metadata": {},
   "source": [
    "# STA 141C - Big Data & High Performance Statistical Computing Spring 2023\n",
    "\n",
    "# Homework 1"
   ]
  },
  {
   "cell_type": "markdown",
   "id": "63daa7ce",
   "metadata": {},
   "source": [
    "#### 1. The following facts about triangular matrices are useful for understanding the algorithms that will be\n",
    "#### mentioned in class. Please create some arbitrary matrices in R or python and verify the following facts:\n",
    "\n",
    "- The product of two upper triangular matrices is upper triangular.\n",
    "- The inverse of a lower triangular matrix is lower triangular.\n",
    "- The product of two unit lower triangular matrices is unit lower triangular.\n",
    "- The inverse of a unit upper triangular matrix is unit upper triangular.\n",
    "\n",
    "Note that a unit triangular matrix is a triangular matrix with all diagonal entries being 1."
   ]
  },
  {
   "cell_type": "code",
   "execution_count": 12,
   "id": "d38954e7",
   "metadata": {},
   "outputs": [
    {
     "data": {
      "text/plain": [
       "array([[0.29897381, 0.20419459, 0.93915519],\n",
       "       [0.        , 0.01124297, 0.55667644],\n",
       "       [0.        , 0.        , 0.1318921 ]])"
      ]
     },
     "execution_count": 12,
     "metadata": {},
     "output_type": "execute_result"
    }
   ],
   "source": [
    "import numpy as np\n",
    "A = np.random.rand(3, 3)\n",
    "# extract the upper triangle of the matrix\n",
    "A = np.triu(A)\n",
    "\n",
    "B = np.random.rand(3, 3)\n",
    "# extract the upper triangle of the matrix\n",
    "B = np.triu(B)\n",
    "\n",
    "np.dot(A,B)"
   ]
  },
  {
   "cell_type": "code",
   "execution_count": 13,
   "id": "1f3cafd1",
   "metadata": {},
   "outputs": [
    {
     "data": {
      "text/plain": [
       "array([[ 2.95756245e+00, -5.01180062e-17,  3.14609992e-16],\n",
       "       [-2.10325263e+00,  1.02749093e+00, -1.82668767e-16],\n",
       "       [-4.29651567e+00, -1.45226690e+00,  3.30114512e+00]])"
      ]
     },
     "execution_count": 13,
     "metadata": {},
     "output_type": "execute_result"
    }
   ],
   "source": [
    "np.linalg.inv(np.tril(np.random.rand(3, 3)))"
   ]
  },
  {
   "cell_type": "code",
   "execution_count": 14,
   "id": "b77a9fe0",
   "metadata": {},
   "outputs": [
    {
     "data": {
      "text/plain": [
       "array([[1.        , 0.        , 0.        ],\n",
       "       [1.20040961, 1.        , 0.        ],\n",
       "       [1.29540872, 0.75908605, 1.        ]])"
      ]
     },
     "execution_count": 14,
     "metadata": {},
     "output_type": "execute_result"
    }
   ],
   "source": [
    "# create two random unit lower triangular matrices of size 3x3\n",
    "A = np.tril(np.random.rand(3, 3), k=-1) + np.eye(3)\n",
    "B = np.tril(np.random.rand(3, 3), k=-1) + np.eye(3)\n",
    "\n",
    "# compute the product of A and B\n",
    "np.dot(A, B)"
   ]
  },
  {
   "cell_type": "code",
   "execution_count": 15,
   "id": "025d4e7d",
   "metadata": {},
   "outputs": [
    {
     "data": {
      "text/plain": [
       "array([[ 1.        , -0.73136951, -0.14479446],\n",
       "       [ 0.        ,  1.        , -0.82307156],\n",
       "       [ 0.        ,  0.        ,  1.        ]])"
      ]
     },
     "execution_count": 15,
     "metadata": {},
     "output_type": "execute_result"
    }
   ],
   "source": [
    "A = np.triu(np.random.rand(3, 3), k=0)\n",
    "\n",
    "# Set the diagonal elements to 1 to make it unit upper triangular\n",
    "A[np.diag_indices(3)] = 1\n",
    "np.linalg.inv(A)"
   ]
  },
  {
   "cell_type": "markdown",
   "id": "53525d36",
   "metadata": {},
   "source": [
    "#### 2. Let a = 0.7, b = 0.2, and c = 0.1\n",
    "\n",
    "\n",
    "- Test whether (a + b) + c equals 1;\n",
    "- Test whether a + (b + c) equals 1;\n",
    "- Test whether (a + c) + b equals 1;\n",
    "- Explain what you found. (For example, you can find the internal representation of these numbers.)"
   ]
  },
  {
   "cell_type": "code",
   "execution_count": 16,
   "id": "e26f2ad7",
   "metadata": {},
   "outputs": [],
   "source": [
    "a = 0.7\n",
    "b = 0.2\n",
    "c = 0.1"
   ]
  },
  {
   "cell_type": "code",
   "execution_count": 17,
   "id": "086a95d9",
   "metadata": {},
   "outputs": [
    {
     "data": {
      "text/plain": [
       "0.9999999999999999"
      ]
     },
     "execution_count": 17,
     "metadata": {},
     "output_type": "execute_result"
    }
   ],
   "source": [
    "(a+b)+c"
   ]
  },
  {
   "cell_type": "code",
   "execution_count": 18,
   "id": "193e149f",
   "metadata": {},
   "outputs": [
    {
     "data": {
      "text/plain": [
       "1.0"
      ]
     },
     "execution_count": 18,
     "metadata": {},
     "output_type": "execute_result"
    }
   ],
   "source": [
    "a + (b+c)"
   ]
  },
  {
   "cell_type": "code",
   "execution_count": 19,
   "id": "7de93827",
   "metadata": {},
   "outputs": [
    {
     "data": {
      "text/plain": [
       "1.0"
      ]
     },
     "execution_count": 19,
     "metadata": {},
     "output_type": "execute_result"
    }
   ],
   "source": [
    "(a+c)+b"
   ]
  },
  {
   "cell_type": "code",
   "execution_count": 20,
   "id": "a4bb3bff",
   "metadata": {},
   "outputs": [
    {
     "name": "stdout",
     "output_type": "stream",
     "text": [
      "Original float: 0.1\n",
      "Internal representation: 0.10000000149011612\n",
      "Binary representation: 0b11001101110011001100110000111101\n"
     ]
    }
   ],
   "source": [
    "import struct\n",
    "\n",
    "# Define a float\n",
    "x = 0.1 \n",
    "\n",
    "# Pack the float into a bytes object using the \"f\" format code\n",
    "x_bytes = struct.pack(\"f\", x)\n",
    "\n",
    "# Convert the bytes object to an integer\n",
    "x_int = int.from_bytes(x_bytes, byteorder='big')\n",
    "\n",
    "# Convert the integer to a binary string\n",
    "x_binary = bin(x_int)\n",
    "\n",
    "# Print the original float, its internal representation, its byte representation,\n",
    "# and its binary representation\n",
    "print(\"Original float:\", x)\n",
    "print(\"Internal representation:\", struct.unpack(\"f\", x_bytes)[0])\n",
    "print(\"Binary representation:\", x_binary)"
   ]
  },
  {
   "cell_type": "markdown",
   "id": "ca705977",
   "metadata": {},
   "source": [
    "We an see that $a+(b+c)$ and $(a+c) + b$ are equal to 1.0 but for $(a+b) + c$ it is represented as a float not exactly equal to 1.0.\n",
    "This is because 0.1 cannot be represented exactly as a base 2 binary fraction. "
   ]
  },
  {
   "cell_type": "markdown",
   "id": "5be56782",
   "metadata": {},
   "source": [
    "#### Create the vector x = (0.988, 0.989, 0.990, . . . , 1.010, 1.011, 1.012).\n",
    "- Plot the polynomial y = x7 − 7x6 + 21x5 − 35x4 + 35x3 − 21x2 + 7x − 1 at each point in x\n",
    "- Plot the polynomial y = (x − 1)7 at each point in x\n",
    "- Explain what you found."
   ]
  },
  {
   "cell_type": "code",
   "execution_count": 21,
   "id": "157a1f46",
   "metadata": {},
   "outputs": [
    {
     "data": {
      "text/plain": [
       "Text(0, 0.5, 'y')"
      ]
     },
     "execution_count": 21,
     "metadata": {},
     "output_type": "execute_result"
    },
    {
     "data": {
      "image/png": "[encoded data removed]",
      "text/plain": [
       "<Figure size 640x480 with 1 Axes>"
      ]
     },
     "metadata": {},
     "output_type": "display_data"
    }
   ],
   "source": [
    "import seaborn as sns\n",
    "import matplotlib.pyplot as plt\n",
    "\n",
    "# Define the polynomial function\n",
    "def polynomial(x):\n",
    "    return x**7 - 7*x**6 + 21*x**5 - 35*x**4 + 35*x**3 - 21*x**2 + 7*x - 1\n",
    "\n",
    "# Generate a range of x values\n",
    "x = np.arange(0.988, 1.013, 0.001)\n",
    "\n",
    "# Evaluate the polynomial at each x value\n",
    "y = polynomial(x)\n",
    "\n",
    "# Create the plot using Seaborn lineplot\n",
    "sns.lineplot(x=x, y=y)\n",
    "plt.title(\"y = x7 − 7x6 + 21x5 − 35x4 + 35x3 − 21x2 + 7x − 1\")\n",
    "plt.xlabel(\"x\")\n",
    "plt.ylabel(\"y\")\n"
   ]
  },
  {
   "cell_type": "code",
   "execution_count": 22,
   "id": "d50a3320",
   "metadata": {},
   "outputs": [
    {
     "data": {
      "text/plain": [
       "Text(0, 0.5, 'y')"
      ]
     },
     "execution_count": 22,
     "metadata": {},
     "output_type": "execute_result"
    },
    {
     "data": {
      "image/png": "[encoded data removed]",
      "text/plain": [
       "<Figure size 640x480 with 1 Axes>"
      ]
     },
     "metadata": {},
     "output_type": "display_data"
    }
   ],
   "source": [
    "def polynomial(x):\n",
    "    return (x - 1)**7\n",
    "\n",
    "# Evaluate the polynomial at each x value\n",
    "y = polynomial(x)\n",
    "\n",
    "# Create the plot using Seaborn lineplot\n",
    "sns.lineplot(x=x, y=y)\n",
    "plt.title(\"y = (x − 1)7\")\n",
    "plt.xlabel(\"x\")\n",
    "plt.ylabel(\"y\")"
   ]
  },
  {
   "cell_type": "markdown",
   "id": "20b780df",
   "metadata": {},
   "source": [
    "We see that even though these functions are theoretically equivalent floating point approximation errors distort the first plot."
   ]
  },
  {
   "cell_type": "markdown",
   "id": "ffce57e6",
   "metadata": {},
   "source": [
    "#### 4. Read in the matrix in the file ‘oringp.dat’ on the failure of O-rings leading to the Challenger disaster. The\n",
    "columns are flight number, date, number of O-rings, number failed, and temperature at launch. Compute\n",
    "the correlation between number of failures and temperature at launch, deleting the last, missing observation\n",
    "(the disaster)."
   ]
  },
  {
   "cell_type": "code",
   "execution_count": 23,
   "id": "c507bc03",
   "metadata": {},
   "outputs": [
    {
     "data": {
      "text/html": [
       "<div>\n",
       "<style scoped>\n",
       "    .dataframe tbody tr th:only-of-type {\n",
       "        vertical-align: middle;\n",
       "    }\n",
       "\n",
       "    .dataframe tbody tr th {\n",
       "        vertical-align: top;\n",
       "    }\n",
       "\n",
       "    .dataframe thead th {\n",
       "        text-align: right;\n",
       "    }\n",
       "</style>\n",
       "<table border=\"1\" class=\"dataframe\">\n",
       "  <thead>\n",
       "    <tr style=\"text-align: right;\">\n",
       "      <th></th>\n",
       "      <th>flight_number</th>\n",
       "      <th>date</th>\n",
       "      <th>num_o_rings</th>\n",
       "      <th>num_failed</th>\n",
       "      <th>temp</th>\n",
       "    </tr>\n",
       "  </thead>\n",
       "  <tbody>\n",
       "    <tr>\n",
       "      <th>0</th>\n",
       "      <td>1</td>\n",
       "      <td>4/12/81</td>\n",
       "      <td>6</td>\n",
       "      <td>0.0</td>\n",
       "      <td>66</td>\n",
       "    </tr>\n",
       "    <tr>\n",
       "      <th>1</th>\n",
       "      <td>2</td>\n",
       "      <td>11/12/81</td>\n",
       "      <td>6</td>\n",
       "      <td>1.0</td>\n",
       "      <td>70</td>\n",
       "    </tr>\n",
       "    <tr>\n",
       "      <th>2</th>\n",
       "      <td>3</td>\n",
       "      <td>3/22/82</td>\n",
       "      <td>6</td>\n",
       "      <td>0.0</td>\n",
       "      <td>69</td>\n",
       "    </tr>\n",
       "    <tr>\n",
       "      <th>3</th>\n",
       "      <td>5</td>\n",
       "      <td>11/11/82</td>\n",
       "      <td>6</td>\n",
       "      <td>0.0</td>\n",
       "      <td>68</td>\n",
       "    </tr>\n",
       "    <tr>\n",
       "      <th>4</th>\n",
       "      <td>6</td>\n",
       "      <td>4/04/83</td>\n",
       "      <td>6</td>\n",
       "      <td>0.0</td>\n",
       "      <td>67</td>\n",
       "    </tr>\n",
       "    <tr>\n",
       "      <th>5</th>\n",
       "      <td>7</td>\n",
       "      <td>6/18/83</td>\n",
       "      <td>6</td>\n",
       "      <td>0.0</td>\n",
       "      <td>72</td>\n",
       "    </tr>\n",
       "    <tr>\n",
       "      <th>6</th>\n",
       "      <td>8</td>\n",
       "      <td>8/30/83</td>\n",
       "      <td>6</td>\n",
       "      <td>0.0</td>\n",
       "      <td>73</td>\n",
       "    </tr>\n",
       "    <tr>\n",
       "      <th>7</th>\n",
       "      <td>9</td>\n",
       "      <td>11/28/83</td>\n",
       "      <td>6</td>\n",
       "      <td>0.0</td>\n",
       "      <td>70</td>\n",
       "    </tr>\n",
       "    <tr>\n",
       "      <th>8</th>\n",
       "      <td>41-B</td>\n",
       "      <td>2/03/84</td>\n",
       "      <td>6</td>\n",
       "      <td>1.0</td>\n",
       "      <td>57</td>\n",
       "    </tr>\n",
       "    <tr>\n",
       "      <th>9</th>\n",
       "      <td>41-C</td>\n",
       "      <td>4/06/84</td>\n",
       "      <td>6</td>\n",
       "      <td>1.0</td>\n",
       "      <td>63</td>\n",
       "    </tr>\n",
       "    <tr>\n",
       "      <th>10</th>\n",
       "      <td>41-D</td>\n",
       "      <td>8/30/84</td>\n",
       "      <td>6</td>\n",
       "      <td>1.0</td>\n",
       "      <td>70</td>\n",
       "    </tr>\n",
       "    <tr>\n",
       "      <th>11</th>\n",
       "      <td>41-G</td>\n",
       "      <td>10/05/84</td>\n",
       "      <td>6</td>\n",
       "      <td>0.0</td>\n",
       "      <td>78</td>\n",
       "    </tr>\n",
       "    <tr>\n",
       "      <th>12</th>\n",
       "      <td>51-A</td>\n",
       "      <td>11/08/84</td>\n",
       "      <td>6</td>\n",
       "      <td>0.0</td>\n",
       "      <td>67</td>\n",
       "    </tr>\n",
       "    <tr>\n",
       "      <th>13</th>\n",
       "      <td>51-C</td>\n",
       "      <td>1/24/85</td>\n",
       "      <td>6</td>\n",
       "      <td>3.0</td>\n",
       "      <td>53</td>\n",
       "    </tr>\n",
       "    <tr>\n",
       "      <th>14</th>\n",
       "      <td>51-D</td>\n",
       "      <td>4/12/85</td>\n",
       "      <td>6</td>\n",
       "      <td>0.0</td>\n",
       "      <td>67</td>\n",
       "    </tr>\n",
       "    <tr>\n",
       "      <th>15</th>\n",
       "      <td>51-B</td>\n",
       "      <td>4/29/85</td>\n",
       "      <td>6</td>\n",
       "      <td>0.0</td>\n",
       "      <td>75</td>\n",
       "    </tr>\n",
       "    <tr>\n",
       "      <th>16</th>\n",
       "      <td>51-G</td>\n",
       "      <td>6/17/85</td>\n",
       "      <td>6</td>\n",
       "      <td>0.0</td>\n",
       "      <td>70</td>\n",
       "    </tr>\n",
       "    <tr>\n",
       "      <th>17</th>\n",
       "      <td>51-F</td>\n",
       "      <td>7/29/85</td>\n",
       "      <td>6</td>\n",
       "      <td>0.0</td>\n",
       "      <td>81</td>\n",
       "    </tr>\n",
       "    <tr>\n",
       "      <th>18</th>\n",
       "      <td>51-I</td>\n",
       "      <td>8/27/85</td>\n",
       "      <td>6</td>\n",
       "      <td>0.0</td>\n",
       "      <td>76</td>\n",
       "    </tr>\n",
       "    <tr>\n",
       "      <th>19</th>\n",
       "      <td>51-J</td>\n",
       "      <td>10/03/85</td>\n",
       "      <td>6</td>\n",
       "      <td>0.0</td>\n",
       "      <td>79</td>\n",
       "    </tr>\n",
       "    <tr>\n",
       "      <th>20</th>\n",
       "      <td>61-A</td>\n",
       "      <td>10/30/85</td>\n",
       "      <td>6</td>\n",
       "      <td>2.0</td>\n",
       "      <td>75</td>\n",
       "    </tr>\n",
       "    <tr>\n",
       "      <th>21</th>\n",
       "      <td>61-B</td>\n",
       "      <td>11/26/85</td>\n",
       "      <td>6</td>\n",
       "      <td>0.0</td>\n",
       "      <td>76</td>\n",
       "    </tr>\n",
       "    <tr>\n",
       "      <th>22</th>\n",
       "      <td>61-C</td>\n",
       "      <td>1/12/86</td>\n",
       "      <td>6</td>\n",
       "      <td>1.0</td>\n",
       "      <td>58</td>\n",
       "    </tr>\n",
       "    <tr>\n",
       "      <th>23</th>\n",
       "      <td>61-I</td>\n",
       "      <td>1/28/86</td>\n",
       "      <td>6</td>\n",
       "      <td>NaN</td>\n",
       "      <td>31</td>\n",
       "    </tr>\n",
       "  </tbody>\n",
       "</table>\n",
       "</div>"
      ],
      "text/plain": [
       "   flight_number      date  num_o_rings  num_failed  temp\n",
       "0              1   4/12/81            6         0.0    66\n",
       "1              2  11/12/81            6         1.0    70\n",
       "2              3   3/22/82            6         0.0    69\n",
       "3              5  11/11/82            6         0.0    68\n",
       "4              6   4/04/83            6         0.0    67\n",
       "5              7   6/18/83            6         0.0    72\n",
       "6              8   8/30/83            6         0.0    73\n",
       "7              9  11/28/83            6         0.0    70\n",
       "8           41-B   2/03/84            6         1.0    57\n",
       "9           41-C   4/06/84            6         1.0    63\n",
       "10          41-D   8/30/84            6         1.0    70\n",
       "11          41-G  10/05/84            6         0.0    78\n",
       "12          51-A  11/08/84            6         0.0    67\n",
       "13          51-C   1/24/85            6         3.0    53\n",
       "14          51-D   4/12/85            6         0.0    67\n",
       "15          51-B   4/29/85            6         0.0    75\n",
       "16          51-G   6/17/85            6         0.0    70\n",
       "17          51-F   7/29/85            6         0.0    81\n",
       "18          51-I   8/27/85            6         0.0    76\n",
       "19          51-J  10/03/85            6         0.0    79\n",
       "20          61-A  10/30/85            6         2.0    75\n",
       "21          61-B  11/26/85            6         0.0    76\n",
       "22          61-C   1/12/86            6         1.0    58\n",
       "23          61-I   1/28/86            6         NaN    31"
      ]
     },
     "execution_count": 23,
     "metadata": {},
     "output_type": "execute_result"
    }
   ],
   "source": [
    "import pandas as pd\n",
    "column_names = [\"flight_number\",\"date\",\"num_o_rings\",\"num_failed\",\"temp\"]\n",
    "\n",
    "o_rings = pd.read_csv(\"oringp.dat\", sep = \"\\s{1,3}\", names = column_names, engine = \"python\")\n",
    "o_rings"
   ]
  },
  {
   "cell_type": "code",
   "execution_count": 24,
   "id": "6fe303ab",
   "metadata": {},
   "outputs": [
    {
     "data": {
      "text/plain": [
       "-0.56"
      ]
     },
     "execution_count": 24,
     "metadata": {},
     "output_type": "execute_result"
    }
   ],
   "source": [
    "o_rings = o_rings.dropna()\n",
    "o_rings[[\"num_failed\",\"temp\"]].corr().loc[\"num_failed\",\"temp\"].round(2)"
   ]
  },
  {
   "cell_type": "markdown",
   "id": "d8ee0251",
   "metadata": {},
   "source": [
    "#### 5"
   ]
  },
  {
   "cell_type": "code",
   "execution_count": 25,
   "id": "21aa7bfc",
   "metadata": {},
   "outputs": [
    {
     "data": {
      "text/plain": [
       "array([-3.48865105e+00,  1.24863667e+00,  2.92556216e+00,  2.81989841e+00,\n",
       "        1.98043800e+00,  3.88451201e-01,  8.31281848e-01,  7.08486410e-01,\n",
       "       -7.95321327e-02,  1.25556064e+00, -1.77005207e+00, -2.29596903e+00,\n",
       "        1.46224493e+00,  2.25808786e+00, -1.77456781e+00, -1.07362194e+00,\n",
       "        2.00769880e+00,  3.01354311e+00, -2.41652200e+00, -2.36641364e-01,\n",
       "        1.53387427e+00, -8.15311296e-01, -4.96403047e+00, -4.77810311e+00,\n",
       "        3.92845845e+00, -2.00659560e+00, -5.40156408e-01, -2.52512160e+00,\n",
       "       -6.71235807e-01, -4.17060727e+00, -1.12282418e+00,  7.93398114e-02,\n",
       "        2.44740622e+00,  1.61065090e+00, -6.46892110e-01,  1.41877103e+00,\n",
       "       -2.62016045e-01,  9.81920811e-01,  4.44797033e+00, -3.60651573e-03,\n",
       "       -5.66528310e-02,  1.23451594e+00, -2.21306990e+00,  7.50850438e-01,\n",
       "        5.20562904e+00, -1.07905769e+00,  1.57546608e+00, -1.90755533e-01,\n",
       "       -1.77034730e+00, -4.96980772e+00,  1.31764943e+00, -2.97821060e+00,\n",
       "       -1.21130254e+00,  2.51102286e-01,  8.05093663e-01, -1.42585360e+00,\n",
       "        3.40213378e+00, -2.49366017e-01, -3.31597558e+00, -3.90438923e-01,\n",
       "        5.61171387e-01, -1.91841400e+00, -2.17939089e-01, -1.07583717e+00,\n",
       "       -7.05677967e+00, -1.83182245e+00, -8.33304340e-01, -2.14777924e+00,\n",
       "        8.27031237e-01,  2.41204528e+00,  1.11899965e+00,  7.37964461e-01,\n",
       "       -2.33176072e-01, -2.20558100e+00, -5.86718956e-01, -4.24057116e+00,\n",
       "       -2.44514422e+00,  3.58700817e-01, -5.83921084e+00, -8.64542468e-01,\n",
       "        3.26656731e-01,  2.15362061e+00, -4.52185990e+00, -4.05511504e-02,\n",
       "       -1.74864524e+00, -2.70907022e+00, -4.13564023e-01,  9.77832605e-01,\n",
       "       -7.34589919e-01, -6.05282412e-01, -2.61767277e+00,  2.36710008e+00,\n",
       "       -3.83738658e-01,  1.20594049e+00, -4.83388728e+00, -7.53506952e+00,\n",
       "       -3.82261329e+00, -3.95036074e+00,  2.20362100e+00,  1.80135325e+00])"
      ]
     },
     "execution_count": 25,
     "metadata": {},
     "output_type": "execute_result"
    }
   ],
   "source": [
    "import random \n",
    "\n",
    "np.random.seed(42)\n",
    "\n",
    "def calc_cov(Z, sigma_1, sigma_0):\n",
    "    \"\"\"\n",
    "    Calculates the covariance matrix of a mixed effect model\n",
    "    \n",
    "    Args:\n",
    "    - Z: numpy array of shape (n, q), design matrix for the random effects\n",
    "    - sigma_1: float, variance of the random effects\n",
    "    - sigma_0: float, variance of the error terms\n",
    "    \n",
    "    Returns:\n",
    "    - cov: numpy array of shape (n, n), covariance matrix of the mixed effect model\n",
    "    \"\"\"\n",
    "    n = Z.shape[0]\n",
    "    cov = (sigma_1**2 * Z @ Z.T)  + (sigma_0**2 * np.eye(n))\n",
    "    return cov\n",
    "\n",
    "n = 100\n",
    "q = 5\n",
    "sigma_0 = np.random.rand()\n",
    "sigma_1 = np.random.rand()\n",
    "\n",
    "sigma_0_squared = sigma_0**2\n",
    "sigma_1_squared = sigma_1**2\n",
    "\n",
    "\n",
    "# generate Z from a q-dimensional normal distribution with mean 0 and variance sigma_1_squared\n",
    "Z = np.random.normal(loc=0, scale=sigma_1, size=(n, q))\n",
    "mu = np.random.normal(0, 1, n) \n",
    "\n",
    "\n",
    "y = np.random.multivariate_normal(mu, calc_cov(Z,sigma_1,sigma_0)) \n",
    "\n",
    "\n",
    "y\n"
   ]
  },
  {
   "cell_type": "code",
   "execution_count": 26,
   "id": "df30c072",
   "metadata": {},
   "outputs": [
    {
     "data": {
      "text/plain": [
       "-65.85531724489397"
      ]
     },
     "execution_count": 26,
     "metadata": {},
     "output_type": "execute_result"
    }
   ],
   "source": [
    "from scipy.stats import multivariate_normal\n",
    "\n",
    "log_density = multivariate_normal.logpdf(y, mu, calc_cov(Z,sigma_1,sigma_0))\n",
    "log_density"
   ]
  },
  {
   "cell_type": "markdown",
   "id": "2c14f492",
   "metadata": {},
   "source": [
    "$$(A + UV')^{-1} = A^{-1} - A^{-1}U (I_m + V'A^{-1}U)^{-1} V'A^{-1}$$\n",
    "$$det(A + UV') = det(A)det(I_m + V'A^{-1}U)$$\n",
    "\n",
    "$$(\\sigma_1^2ZZ' + \\sigma_0^2I_n)^{-1}$$\n",
    "\n",
    "Here we pick \n",
    "\n",
    "$$A = \\sigma_0^2I_n$$\n",
    "$$U = \\sigma_1^2Z$$\n",
    "$$V' = Z'$$\n",
    "\n",
    "We pick these matrices for the decompostion because: \n",
    "\n",
    "- $\\sigma_0^2I_n$ is a diagonal matrix which makes the inverse of $A$ simple to compute. \n",
    "- $Z'$ has the same amount of rows as U which makes matrix multiplication possible.\n",
    "- $\\sigma_1^2Z$ is the remaining quantity.\n",
    "\n",
    "Now we can substitute these matrices into the Woodbury Formula:\n",
    "\n",
    "$$(\\sigma_0^2I_n + \\sigma_1^2ZZ')^{-1} = \\sigma_0^2I_n^{-1} -\\sigma_0^2I_n^{-1}\\sigma_1^2Z(I_m + Z'\\sigma_0^2I_n^{-1}\\sigma_1^2Z)^{-1} Z'\\sigma_0^2I_n^{-1}$$\n",
    "\n",
    "$$det(\\sigma_0^2i_n +\\sigma_1^2ZZ') = det(\\sigma_0^2I_n)det(I_m + Z'\\sigma_0^2I_n^{-1}\\sigma_1^2Z)$$\n",
    "\n",
    "Now we can rewrite the log-density function:\n",
    "\n",
    "$$-\\frac{n}{2}\\log(2\\pi) - \\frac{1}{2}\\log(det(\\sigma_0^2I_n)det(I_m + Z'\\sigma_0^2I_n^{-1}\\sigma_1^2Z)) - \\frac{1}{2}(y - \\mu)'(\\sigma_0^2I_n^{-1} -\\sigma_0^2I_n^{-1}\\sigma_1^2Z(I_m + Z'\\sigma_0^2I_n^{-1}\\sigma_1^2Z)^{-1} Z'\\sigma_0^2I_n^{-1})(y - \\mu)$$\n",
    "\n",
    "\n"
   ]
  },
  {
   "cell_type": "code",
   "execution_count": 27,
   "id": "72d45e4e",
   "metadata": {},
   "outputs": [],
   "source": [
    "import numpy as np\n",
    "from scipy.linalg import det\n",
    "\n",
    "def dmvnorm_lowrank(y, mu, Z, sigma_0, sigma_1,log=False):\n",
    "    n = len(y)\n",
    "    m = Z.shape[1]\n",
    "    \n",
    "    A = sigma_0**2 * np.eye(n)\n",
    "    A_inv = np.linalg.inv(A)\n",
    "    V_prime = Z.T\n",
    "    U = sigma_1**2 * Z \n",
    "    \n",
    "    # Compute the first term\n",
    "    first_term = -n/2 * np.log(2*np.pi)\n",
    "    \n",
    "    # Compute the second term\n",
    "    second_term = (-1/2) * (np.linalg.slogdet(A)[1] + np.log(np.linalg.det(np.eye(m) + V_prime @ A_inv @ U)))\n",
    "    \n",
    "    # Compute the third term\n",
    "    inv_term = A_inv - (A_inv @ U @ np.linalg.inv(np.eye(m) + V_prime @ A_inv @ U) @ V_prime @ A_inv)\n",
    "    third_term = -1/2 * (y - mu).T @ inv_term @ (y - mu) \n",
    "    \n",
    "    # Compute the final result\n",
    "    if log:\n",
    "        result = first_term + second_term + third_term  \n",
    "    else:\n",
    "        result = np.exp(first_term + second_term + third_term)\n",
    "    \n",
    "    return result"
   ]
  },
  {
   "cell_type": "code",
   "execution_count": 28,
   "id": "8ef8c0b7",
   "metadata": {},
   "outputs": [
    {
     "data": {
      "text/plain": [
       "-65.85531724489468"
      ]
     },
     "execution_count": 28,
     "metadata": {},
     "output_type": "execute_result"
    }
   ],
   "source": [
    "dmvnorm_lowrank(y,mu,Z,sigma_0,sigma_1,True)"
   ]
  },
  {
   "cell_type": "code",
   "execution_count": 29,
   "id": "8b4cb6bc",
   "metadata": {},
   "outputs": [
    {
     "name": "stdout",
     "output_type": "stream",
     "text": [
      "The builtin multivariate_normal.logpdf  1 took 0.001663 seconds to execute.\n"
     ]
    }
   ],
   "source": [
    "import time\n",
    "\n",
    "start_time = time.time()\n",
    "multivariate_normal.logpdf(y, mu, calc_cov(Z,sigma_1,sigma_0))\n",
    "end_time = time.time()\n",
    "print(\"The builtin multivariate_normal.logpdf  1 took {:.6f} seconds to execute.\".format(end_time - start_time))"
   ]
  },
  {
   "cell_type": "code",
   "execution_count": 30,
   "id": "ceb1aa20",
   "metadata": {},
   "outputs": [
    {
     "name": "stdout",
     "output_type": "stream",
     "text": [
      "dmvnorm_lowrank took 0.001400 seconds to execute.\n"
     ]
    }
   ],
   "source": [
    "start_time = time.time()\n",
    "dmvnorm_lowrank(y,mu,Z,sigma_0,sigma_1,True)\n",
    "end_time = time.time()\n",
    "print(\"dmvnorm_lowrank took {:.6f} seconds to execute.\".format(end_time - start_time))"
   ]
  },
  {
   "cell_type": "code",
   "execution_count": 31,
   "id": "4517e0cf",
   "metadata": {},
   "outputs": [
    {
     "data": {
      "text/plain": [
       "array([ 0.06027012,  0.20960643,  2.85429865, ..., -0.31217099,\n",
       "       -2.70859796, -0.13817348])"
      ]
     },
     "execution_count": 31,
     "metadata": {},
     "output_type": "execute_result"
    }
   ],
   "source": [
    "# redo with larger n\n",
    "import random \n",
    "\n",
    "np.random.seed(42)\n",
    "n = 5000 \n",
    "\n",
    "# generate Z from a q-dimensional normal distribution with mean 0 and variance sigma_1_squared\n",
    "Z = np.random.normal(loc=0, scale=sigma_1, size=(n, q))\n",
    "mu = np.random.normal(0, 1, n) \n",
    "Sigma = calc_cov(Z,sigma_1,sigma_0)\n",
    "\n",
    "\n",
    "y = np.random.multivariate_normal(mu, calc_cov(Z,sigma_1,sigma_0)) \n",
    "\n",
    "y"
   ]
  },
  {
   "cell_type": "code",
   "execution_count": 32,
   "id": "1465cb48",
   "metadata": {},
   "outputs": [
    {
     "data": {
      "text/plain": [
       "-2341.1758549406886"
      ]
     },
     "execution_count": 32,
     "metadata": {},
     "output_type": "execute_result"
    }
   ],
   "source": [
    "multivariate_normal.logpdf(y, mu, Sigma)"
   ]
  },
  {
   "cell_type": "code",
   "execution_count": 33,
   "id": "de5e42ac",
   "metadata": {},
   "outputs": [
    {
     "data": {
      "text/plain": [
       "-2341.175854940816"
      ]
     },
     "execution_count": 33,
     "metadata": {},
     "output_type": "execute_result"
    }
   ],
   "source": [
    "dmvnorm_lowrank(y,mu,Z,sigma_0,sigma_1,True)"
   ]
  },
  {
   "cell_type": "code",
   "execution_count": 34,
   "id": "e27abd37",
   "metadata": {},
   "outputs": [
    {
     "name": "stdout",
     "output_type": "stream",
     "text": [
      "The builtin multivariate_normal.logpdf  1 took 17.096533 seconds to execute.\n",
      "dmvnorm_lowrank took 12.894799 seconds to execute.\n"
     ]
    }
   ],
   "source": [
    "import time\n",
    "\n",
    "start_time = time.time()\n",
    "multivariate_normal.logpdf(y, mu, Sigma)\n",
    "end_time = time.time()\n",
    "print(\"The builtin multivariate_normal.logpdf  1 took {:.6f} seconds to execute.\".format(end_time - start_time))\n",
    "\n",
    "start_time = time.time()\n",
    "dmvnorm_lowrank(y,mu,Z,sigma_0,sigma_1,True)\n",
    "end_time = time.time()\n",
    "print(\"dmvnorm_lowrank took {:.6f} seconds to execute.\".format(end_time - start_time))"
   ]
  },
  {
   "cell_type": "markdown",
   "id": "fbe4d48b",
   "metadata": {},
   "source": [
    "We can see that in both cases where n = 100 and n = 5000 that dmvnorm_lowrank() is faster than the built in equivalent function.\n",
    "\n",
    "- For n = 100 there was a 16% decrease in computation time\n",
    "- For n = 5000 there was a 25% decrease in computation time\n",
    "\n",
    "For the n = 5000 case we had to account for the determinat of A being represented as 0 since it is calculated as the product of the diagonal. I avoided this issue by calculating the log determinant and adding instead of multiplying."
   ]
  },
  {
   "cell_type": "markdown",
   "id": "a01a96f4",
   "metadata": {},
   "source": [
    "#### 6. In class we learnt about the BLAS and how it has become a de facto standard for basic linear algebra\n",
    "operations. Both R and numpy use the BLAS and LAPACK libraries extensively to accelerate certain types\n",
    "of operations. Apart from *, %*%, eigen, and qr, find out two other common functions use the BLAS and\n",
    "LAPACK routines to speed up calculations.\n",
    "\n",
    "\n",
    "- numpy.linalg.inv() is a function for matrix inversion. When the argument is a square matrix, numpy.linalg.inv() uses LAPACK routines to compute the inverse efficiently. \n",
    "\n",
    "- np.linalg.multi_dot() takes multiple arrays as input and performs the matrix multiplication in a way that minimizes the number of temporary arrays created. It achieves this by using BLAS and LAPACK routines to perform the multiplication efficiently."
   ]
  }
 ],
 "metadata": {
  "kernelspec": {
   "display_name": "Python 3 (ipykernel)",
   "language": "python",
   "name": "python3"
  },
  "language_info": {
   "codemirror_mode": {
    "name": "ipython",
    "version": 3
   },
   "file_extension": ".py",
   "mimetype": "text/x-python",
   "name": "python",
   "nbconvert_exporter": "python",
   "pygments_lexer": "ipython3",
   "version": "3.9.13"
  }
 },
 "nbformat": 4,
 "nbformat_minor": 5
}
